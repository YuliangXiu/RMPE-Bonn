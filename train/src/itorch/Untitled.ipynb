{
 "cells": [
  {
   "cell_type": "code",
   "execution_count": 171,
   "metadata": {},
   "outputs": [],
   "source": [
    "import pandas as pd\n",
    "import h5py\n",
    "import pprint\n",
    "import numpy as np\n",
    "from tqdm import tqdm, tqdm_notebook"
   ]
  },
  {
   "cell_type": "code",
   "execution_count": 172,
   "metadata": {},
   "outputs": [],
   "source": [
    "ai_json = '/home/yuliang/data/ai_challenger_keypoint_train_20170902/keypoint_train_annotations_20170902.json'\n",
    "with open(ai_json) as data_file:    \n",
    "    data = pd.read_json(data_file)"
   ]
  },
  {
   "cell_type": "code",
   "execution_count": 181,
   "metadata": {},
   "outputs": [
    {
     "data": {
      "application/vnd.jupyter.widget-view+json": {
       "model_id": "5ef51f5fbbeb402197c6b586bba06dd7"
      }
     },
     "metadata": {},
     "output_type": "display_data"
    },
    {
     "name": "stdout",
     "output_type": "stream",
     "text": [
      "\n"
     ]
    }
   ],
   "source": [
    "annot = {'ids':[], 'person':[], 'visible':[], 'imgname':[],'part':[],'bndbox':[]}\n",
    "# keys = ['human_annotations', 'image_id', 'keypoint_annotations', 'url']\n",
    "numImgs = len(data['image_id'])\n",
    "for ids in tqdm_notebook(xrange(numImgs)):\n",
    "    for person in xrange(1, len(data['human_annotations'][ids].keys())+1):\n",
    "        imgname = np.zeros(40)\n",
    "        refname = str(data['image_id'][ids])\n",
    "        for i in range(len(refname)): imgname[i] = ord(refname[i])\n",
    "        annot['ids'] += [ids]\n",
    "        annot['person'] += [person]\n",
    "        annot['imgname'] += [imgname]\n",
    "        annot['bndbox'] += [np.array(data['human_annotations'][ids]['human'+str(person)]).reshape(1,4)]\n",
    "        annot['visible'] += [np.array(data['keypoint_annotations'][ids]['human'+str(person)]).reshape(14,3)[:,-1]]\n",
    "        annot['part'] += [np.array(data['keypoint_annotations'][ids]['human'+str(person)]).reshape(14,3)[:,:2]]"
   ]
  },
  {
   "cell_type": "code",
   "execution_count": 182,
   "metadata": {},
   "outputs": [],
   "source": [
    "with h5py.File('/home/yuliang/code/multi-human-pose/train/data/ai-cha/annot.h5','w') as f:\n",
    "    f.attrs['name'] = 'ai-cha'\n",
    "    for k in annot.keys():\n",
    "        f[k] = np.array(annot[k])"
   ]
  },
  {
   "cell_type": "code",
   "execution_count": null,
   "metadata": {
    "collapsed": true
   },
   "outputs": [],
   "source": [
    "xmin[i] = upLeft[1]+torch.normal(-0.0142,0.1158)*width\n",
    "ymin[i] = upLeft[2]+torch.normal(0.0043,0.068)*ht\n",
    "xmax[i] = bottomRight[1]+torch.normal(0.0154,0.1337)*width\n",
    "ymax[i] = bottomRight[2]+torch.normal(-0.0013,0.0711)*ht"
   ]
  }
 ],
 "metadata": {
  "kernelspec": {
   "display_name": "Python 2",
   "language": "python",
   "name": "python2"
  },
  "language_info": {
   "codemirror_mode": {
    "name": "ipython",
    "version": 2
   },
   "file_extension": ".py",
   "mimetype": "text/x-python",
   "name": "python",
   "nbconvert_exporter": "python",
   "pygments_lexer": "ipython2",
   "version": "2.7.13"
  }
 },
 "nbformat": 4,
 "nbformat_minor": 2
}
