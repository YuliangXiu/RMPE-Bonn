{
 "cells": [
  {
   "cell_type": "code",
   "execution_count": 40,
   "metadata": {
    "collapsed": true
   },
   "outputs": [],
   "source": [
    "import pandas as pd\n",
    "import h5py\n",
    "import pprint\n",
    "import numpy as np\n",
    "import cv2 as cv\n",
    "import os\n",
    "from tqdm import tqdm, tqdm_notebook"
   ]
  },
  {
   "cell_type": "code",
   "execution_count": 100,
   "metadata": {
    "collapsed": true
   },
   "outputs": [],
   "source": [
    "ai_json = '/home/yuliang/data/ai_challenger_keypoint_train_20170902/keypoint_train_annotations_20170902.json'\n",
    "with open(ai_json) as data_file:    \n",
    "    data = pd.read_json(data_file)"
   ]
  },
  {
   "cell_type": "code",
   "execution_count": 101,
   "metadata": {},
   "outputs": [
    {
     "data": {
      "application/vnd.jupyter.widget-view+json": {
       "model_id": "a028fed9bf7140399e7a40dc546abdbc"
      }
     },
     "metadata": {},
     "output_type": "display_data"
    },
    {
     "name": "stdout",
     "output_type": "stream",
     "text": [
      "\n"
     ]
    }
   ],
   "source": [
    "annot = {'ids':[], 'person':[], 'visible':[], 'imgname':[],'part':[],'bndbox':[]}\n",
    "root_dir = '/home/yuliang/data/ai_challenger_keypoint_train_20170902/keypoint_train_images_20170902'\n",
    "# keys = ['human_annotations', 'image_id', 'keypoint_annotations', 'url']\n",
    "# no_num = 0\n",
    "# ex_num = 0\n",
    "\n",
    "numImgs = len(data['image_id'])\n",
    "for ids in tqdm_notebook(xrange(numImgs)):\n",
    "    if ids in [1292, 1591, 1679, 3234, 2813, 8819, 33942, 40100, 52333, 62848, 63510,\\\n",
    "               67394, 64781, 73158, 80854, 72306, 79064, 80477, 84458, 118716, 129356, \\\n",
    "               148019, 187494, 208713, 96446, 99438, 101779, 135598, 139632, 152663,\\\n",
    "               182122, 182176, 201172]:\n",
    "        continue\n",
    "    height, width,_ = cv.imread(os.path.join(root_dir,data['image_id'][ids]+'.jpg')).shape\n",
    "#     height += 2\n",
    "#     width += 2\n",
    "#     if len(data['human_annotations'][ids].keys()) == 0:\n",
    "#         print 'no label'+str(no_num)\n",
    "#         no_num += 1\n",
    "    for person in xrange(1, len(data['human_annotations'][ids].keys())+1):\n",
    "        imgname = np.zeros(40)\n",
    "        refname = str(data['image_id'][ids])\n",
    "        for i in range(len(refname)): imgname[i] = ord(refname[i])\n",
    "        annot['ids'] += [ids]\n",
    "        annot['person'] += [person]\n",
    "        annot['imgname'] += [imgname]\n",
    "        bndbox = np.array(data['human_annotations'][ids]['human'+str(person)]).reshape(1,4)\n",
    "#         print bndbox\n",
    "        bndbox[0][0] = np.max([np.min([bndbox[0][0], width]),1])\n",
    "        bndbox[0][2] = np.max([np.min([bndbox[0][2], width]),1])\n",
    "        bndbox[0][1] = np.max([np.min([bndbox[0][1], height]),1])\n",
    "        bndbox[0][3] = np.max([np.min([bndbox[0][3], height]),1])\n",
    "        \n",
    "#         if bndbox[0][0] >= bndbox[0][2] or bndbox[0][1] >= bndbox[0][3]:\n",
    "#             print ids, bndbox\n",
    "        \n",
    "        part = np.array(data['keypoint_annotations'][ids]['human'+str(person)]).reshape(14,3)[:,:2]\n",
    "#         print part.shape\n",
    "#         print part\n",
    "        part[:,0][part[:,0]>width] = width\n",
    "        part[:,1][part[:,1]>height] = height\n",
    "#         if np.max(bndbox[:,0], axis=0)>width or np.max(bndbox[:,1], axis=0)>height:\n",
    "#                 print str(ex_num)+\": \"+'error at '+str(ids)+' '+str(person)+'height= '+str(height)+' width= '+str(width)\n",
    "#                 print np.max(bndbox, axis=0)\n",
    "#                 ex_num += 1\n",
    "        annot['bndbox'] += [bndbox]\n",
    "        annot['visible'] += [np.array(data['keypoint_annotations'][ids]['human'+str(person)]).reshape(14,3)[:,-1]]\n",
    "        annot['part'] += [part]"
   ]
  },
  {
   "cell_type": "code",
   "execution_count": 103,
   "metadata": {},
   "outputs": [
    {
     "name": "stdout",
     "output_type": "stream",
     "text": [
      "378298\n"
     ]
    }
   ],
   "source": [
    "print len(annot['imgname'])"
   ]
  },
  {
   "cell_type": "code",
   "execution_count": 102,
   "metadata": {
    "collapsed": true
   },
   "outputs": [],
   "source": [
    "with h5py.File('/home/yuliang/code/multi-human-pose/train/data/ai-cha/annot.h5','w') as f:\n",
    "    f.attrs['name'] = 'ai-cha'\n",
    "    for k in annot.keys():\n",
    "        f[k] = np.array(annot[k])"
   ]
  },
  {
   "cell_type": "markdown",
   "metadata": {
    "collapsed": true
   },
   "source": [
    "xmin[i] = upLeft[1]+torch.normal(-0.0142,0.1158)*width\n",
    "\n",
    "ymin[i] = upLeft[2]+torch.normal(0.0043,0.068)*ht\n",
    "\n",
    "xmax[i] = bottomRight[1]+torch.normal(0.0154,0.1337)*width\n",
    "\n",
    "ymax[i] = bottomRight[2]+torch.normal(-0.0013,0.0711)*ht"
   ]
  },
  {
   "cell_type": "code",
   "execution_count": 35,
   "metadata": {},
   "outputs": [
    {
     "name": "stdout",
     "output_type": "stream",
     "text": [
      "set([(14,)])\n"
     ]
    }
   ],
   "source": [
    "a = set()\n",
    "for i in range(len(annot['imgname'])):\n",
    "    a.add(annot['visible'][i].shape)\n",
    "print a"
   ]
  },
  {
   "cell_type": "code",
   "execution_count": 7,
   "metadata": {},
   "outputs": [
    {
     "name": "stdout",
     "output_type": "stream",
     "text": [
      "043758c591b58f39a01648c49b5154ad1e01d400\n"
     ]
    }
   ],
   "source": [
    "print (data['image_id'][1])"
   ]
  },
  {
   "cell_type": "code",
   "execution_count": 55,
   "metadata": {},
   "outputs": [
    {
     "name": "stdout",
     "output_type": "stream",
     "text": [
      "27652\n"
     ]
    }
   ],
   "source": [
    "with h5py.File('/home/yuliang/code/multi-human-pose/train/data/mpii-box/annot.h5','r') as f:\n",
    "    print len(f['imgname'])"
   ]
  },
  {
   "cell_type": "code",
   "execution_count": null,
   "metadata": {
    "collapsed": true
   },
   "outputs": [],
   "source": []
  }
 ],
 "metadata": {
  "kernelspec": {
   "display_name": "Python 2",
   "language": "python",
   "name": "python2"
  },
  "language_info": {
   "codemirror_mode": {
    "name": "ipython",
    "version": 2
   },
   "file_extension": ".py",
   "mimetype": "text/x-python",
   "name": "python",
   "nbconvert_exporter": "python",
   "pygments_lexer": "ipython2",
   "version": "2.7.13"
  }
 },
 "nbformat": 4,
 "nbformat_minor": 2
}
