{
 "cells": [
  {
   "cell_type": "code",
   "execution_count": 2,
   "metadata": {
    "collapsed": true
   },
   "outputs": [],
   "source": [
    "import numpy as np\n",
    "from scipy.io import loadmat, savemat\n",
    "from numpy.core.records import fromarrays\n",
    "from itertools import compress\n",
    "from tqdm import tqdm, tqdm_notebook\n",
    "import os, pprint\n",
    "import cv2 as cv\n",
    "import pandas as pd\n",
    "import h5py"
   ]
  },
  {
   "cell_type": "code",
   "execution_count": 161,
   "metadata": {},
   "outputs": [
    {
     "data": {
      "application/vnd.jupyter.widget-view+json": {
       "model_id": "36710027ff004bc99da657e8362d83b7"
      }
     },
     "metadata": {},
     "output_type": "display_data"
    },
    {
     "name": "stdout",
     "output_type": "stream",
     "text": [
      "\n"
     ]
    },
    {
     "data": {
      "application/vnd.jupyter.widget-view+json": {
       "model_id": "c08db5c67c944ba0abe9bef151b57136"
      }
     },
     "metadata": {},
     "output_type": "display_data"
    },
    {
     "name": "stdout",
     "output_type": "stream",
     "text": [
      "\n"
     ]
    }
   ],
   "source": [
    "train_annot_dir = '/home/yuliang/data/posetrack_data/annotations/train'\n",
    "val_annot_dir = '/home/yuliang/data/posetrack_data/annotations/val'\n",
    "image_dir = '/home/yuliang/data/posetrack_data'\n",
    "\n",
    "def convert_to_ascii(text):\n",
    "    text = text.ljust(100,'@')\n",
    "    return np.array([ord(char) for char in text])\n",
    "\n",
    "annot = {'imgname':[],'part':[],'bndbox':[]}\n",
    "full_ids = set([0,1,2,3,4,5,6,7,8,9,10,11,12,13,14])\n",
    "\n",
    "for data_dir in [train_annot_dir, val_annot_dir]:\n",
    "    for _,_,matfiles in os.walk(data_dir):\n",
    "        for matfile in tqdm_notebook(matfiles):\n",
    "            mat = loadmat(os.path.join(data_dir, matfile))\n",
    "            nImg = len(mat['annolist']['image'][0])\n",
    "            for fid in xrange(nImg):\n",
    "                if mat['annolist']['is_labeled'][0][fid][0][0]:\n",
    "                    fname = mat['annolist']['image'][0][fid][0][0][0][0]\n",
    "                    miss_dirs = ['images/mpii_5sec/', 'images/bonn_5sec/']\n",
    "                    if data_dir == val_annot_dir and True in [True for miss_dir in miss_dirs if miss_dir in fname]:\n",
    "                        continue\n",
    "                            \n",
    "                    imgname = os.path.join(image_dir,fname)\n",
    "#                     print imgname\n",
    "                    height, width,_ = cv.imread(imgname).shape\n",
    "                    for pid in xrange(mat['annolist']['annorect'][0][fid].shape[1]):\n",
    "                        xmin =  mat['annolist']['annorect'][0][fid][0][pid]['x1'][0][0]\n",
    "                        ymin =  mat['annolist']['annorect'][0][fid][0][pid]['y1'][0][0]\n",
    "                        xmax =  mat['annolist']['annorect'][0][fid][0][pid]['x2'][0][0]\n",
    "                        ymax =  mat['annolist']['annorect'][0][fid][0][pid]['y2'][0][0]\n",
    "                        trackid = mat['annolist']['annorect'][0][fid][0][pid]['track_id'][0][0]\n",
    "                        \n",
    "                        if xmin>= xmax or ymin >= ymax or xmin>width or xmax>width or ymin>height or ymax>height:\n",
    "                            continue\n",
    "                        bndbox = [xmin, ymin, xmax, ymax]\n",
    "                        if 0 in bndbox:\n",
    "                            ids = bndbox.index(0)\n",
    "                            if type(ids) is int:\n",
    "                                bndbox[ids] = 1\n",
    "                            else:\n",
    "                                for id_ in ids:\n",
    "                                    bndbox[id_] = 1\n",
    "\n",
    "                        if len(mat['annolist']['annorect'][0][fid][0][pid]['annopoints']) == 0:\n",
    "                            continue\n",
    "                        ids = set([item[0][0] for item in mat['annolist']['annorect'][0][fid][0][pid]['annopoints'][0][0]['point']['id'][0]])  \n",
    "                        part_x = np.array([item[0][0] for item in mat['annolist']['annorect'][0][fid][0][pid]['annopoints'][0][0]['point']['x'][0]])\n",
    "                        part_y = np.array([item[0][0] for item in mat['annolist']['annorect'][0][fid][0][pid]['annopoints'][0][0]['point']['y'][0]])\n",
    "                        \n",
    "                        if np.max(part_x)>width or np.max(part_y)>height or np.min(part_x)<=0 or np.min(part_y)<=0:\n",
    "                            continue\n",
    "                        miss_ids = [list(full_ids).index(i) for i in (full_ids-ids)]\n",
    "                        for miss_id in sorted(miss_ids):\n",
    "                            part_x = np.insert(part_x, miss_id, 0.0)\n",
    "                            part_y = np.insert(part_y, miss_id, 0.0)\n",
    "\n",
    "                        part = np.stack((part_x, part_y), axis=1)\n",
    "                        annot['imgname'] += [convert_to_ascii(imgname)]\n",
    "                        annot['part'] += [part.reshape(15,2)]\n",
    "                        annot['bndbox'] += [np.array(bndbox).reshape(1,4)]\n",
    "\n",
    "                        \n"
   ]
  },
  {
   "cell_type": "code",
   "execution_count": 164,
   "metadata": {},
   "outputs": [],
   "source": [
    "with h5py.File('/home/yuliang/code/multi-human-pose/train/data/bonn-cha/annot.h5','w') as f:\n",
    "    f.attrs['name'] = 'bonn-cha'\n",
    "    for k in annot.keys():\n",
    "        f[k] = np.array(annot[k])"
   ]
  },
  {
   "cell_type": "code",
   "execution_count": null,
   "metadata": {},
   "outputs": [],
   "source": [
    "print(len(\"/home/yuliang/code/multi-human-pose/train/data/bonn-train/images/000000010/00000.jpg\"))"
   ]
  },
  {
   "cell_type": "code",
   "execution_count": null,
   "metadata": {},
   "outputs": [],
   "source": [
    "with h5py.File('/home/yuliang/code/multi-human-pose/train/data/mpii-box/annot.h5','r') as f:\n",
    "    print f['bndbox'][1]\n",
    "    print f['part'][1]"
   ]
  },
  {
   "cell_type": "code",
   "execution_count": 166,
   "metadata": {},
   "outputs": [
    {
     "name": "stdout",
     "output_type": "stream",
     "text": [
      "14556\n",
      "[[  0   0]\n",
      " [237 355]\n",
      " [219 255]\n",
      " [166 258]\n",
      " [170 356]\n",
      " [  0   0]\n",
      " [188 123]\n",
      " [198  62]\n",
      " [241 111]\n",
      " [274 136]\n",
      " [215 130]\n",
      " [150 147]\n",
      " [145 216]\n",
      " [195 253]]\n"
     ]
    }
   ],
   "source": [
    "with h5py.File('/home/yuliang/code/multi-human-pose/train/data/bonn-train/annot.h5','r') as f:\n",
    "    print len(f['bndbox'])\n",
    "    print f['part'][1]"
   ]
  },
  {
   "cell_type": "code",
   "execution_count": null,
   "metadata": {},
   "outputs": [],
   "source": [
    "with h5py.File('/home/yuliang/code/multi-human-pose/train/data/ai-cha/annot.h5','r') as f:\n",
    "    print f['bndbox'][1]\n",
    "    print f['part'][1]"
   ]
  },
  {
   "cell_type": "code",
   "execution_count": 165,
   "metadata": {},
   "outputs": [
    {
     "name": "stdout",
     "output_type": "stream",
     "text": [
      "58453\n",
      "[[ 901.5  464.5]\n",
      " [ 920.5  407.5]\n",
      " [ 877.5  339.5]\n",
      " [ 886.5  337.5]\n",
      " [ 877.5  404.5]\n",
      " [   0.     0. ]\n",
      " [ 911.5  312.5]\n",
      " [ 880.5  298.5]\n",
      " [ 881.5  256.5]\n",
      " [   0.     0. ]\n",
      " [   0.     0. ]\n",
      " [ 909.5  296.5]\n",
      " [   0.     0. ]\n",
      " [ 893.5  221.5]\n",
      " [   0.     0. ]]\n"
     ]
    }
   ],
   "source": [
    "with h5py.File('/home/yuliang/code/multi-human-pose/train/data/bonn-cha/annot.h5','r') as f:\n",
    "    print len(f['imgname'])\n",
    "    print f['part'][1]"
   ]
  },
  {
   "cell_type": "code",
   "execution_count": null,
   "metadata": {
    "collapsed": true
   },
   "outputs": [],
   "source": []
  }
 ],
 "metadata": {
  "kernelspec": {
   "display_name": "Python 2",
   "language": "python",
   "name": "python2"
  },
  "language_info": {
   "codemirror_mode": {
    "name": "ipython",
    "version": 2
   },
   "file_extension": ".py",
   "mimetype": "text/x-python",
   "name": "python",
   "nbconvert_exporter": "python",
   "pygments_lexer": "ipython2",
   "version": "2.7.13"
  }
 },
 "nbformat": 4,
 "nbformat_minor": 2
}
