{
 "cells": [
  {
   "cell_type": "code",
   "execution_count": 40,
   "metadata": {
    "collapsed": true
   },
   "outputs": [],
   "source": [
    "import pandas as pd\n",
    "import h5py\n",
    "import pprint\n",
    "import numpy as np\n",
    "import cv2 as cv\n",
    "import os\n",
    "from tqdm import tqdm, tqdm_notebook"
   ]
  },
  {
   "cell_type": "code",
   "execution_count": 88,
   "metadata": {
    "collapsed": true
   },
   "outputs": [],
   "source": [
    "ai_json = '/home/yuliang/data/ai_challenger_keypoint_train_20170902/keypoint_train_annotations_20170902.json'\n",
    "with open(ai_json) as data_file:    \n",
    "    data = pd.read_json(data_file)"
   ]
  },
  {
   "cell_type": "code",
   "execution_count": null,
   "metadata": {},
   "outputs": [
    {
     "data": {
      "application/vnd.jupyter.widget-view+json": {
       "model_id": "1213f177154a45ca8423dc3fdb5c88f2"
      }
     },
     "metadata": {},
     "output_type": "display_data"
    }
   ],
   "source": [
    "annot = {'ids':[], 'person':[], 'visible':[], 'imgname':[],'part':[],'bndbox':[]}\n",
    "root_dir = '/home/yuliang/data/ai_challenger_keypoint_train_20170902/keypoint_train_images_20170902'\n",
    "# keys = ['human_annotations', 'image_id', 'keypoint_annotations', 'url']\n",
    "# no_num = 0\n",
    "# ex_num = 0\n",
    "\n",
    "numImgs = len(data['image_id'])\n",
    "for ids in tqdm_notebook(xrange(numImgs)):\n",
    "    if ids in [3234, 2813, 8819, 64781, 80854, 72306, 84458, 118716, 129356, 148019, 187494, 208713]:\n",
    "        continue\n",
    "    height, width,_ = cv.imread(os.path.join(root_dir,data['image_id'][ids]+'.jpg')).shape\n",
    "#     height += 2\n",
    "#     width += 2\n",
    "#     if len(data['human_annotations'][ids].keys()) == 0:\n",
    "#         print 'no label'+str(no_num)\n",
    "#         no_num += 1\n",
    "    for person in xrange(1, len(data['human_annotations'][ids].keys())+1):\n",
    "        imgname = np.zeros(40)\n",
    "        refname = str(data['image_id'][ids])\n",
    "        for i in range(len(refname)): imgname[i] = ord(refname[i])\n",
    "        annot['ids'] += [ids]\n",
    "        annot['person'] += [person]\n",
    "        annot['imgname'] += [imgname]\n",
    "        bndbox = np.array(data['human_annotations'][ids]['human'+str(person)]).reshape(1,4)\n",
    "#         print bndbox\n",
    "        bndbox[0][0] = np.min([bndbox[0][0], width])\n",
    "        bndbox[0][2] = np.min([bndbox[0][2], width])\n",
    "        bndbox[0][1] = np.min([bndbox[0][1], height])\n",
    "        bndbox[0][3] = np.min([bndbox[0][3], height])\n",
    "        \n",
    "        part = np.array(data['keypoint_annotations'][ids]['human'+str(person)]).reshape(14,3)[:,:2]\n",
    "#         print part.shape\n",
    "#         print part\n",
    "        part[:,0][part[:,0]>width] = width\n",
    "        part[:,1][part[:,1]>height] = height\n",
    "#         if np.max(bndbox[:,0], axis=0)>width or np.max(bndbox[:,1], axis=0)>height:\n",
    "#                 print str(ex_num)+\": \"+'error at '+str(ids)+' '+str(person)+'height= '+str(height)+' width= '+str(width)\n",
    "#                 print np.max(bndbox, axis=0)\n",
    "#                 ex_num += 1\n",
    "        annot['bndbox'] += [bndbox]\n",
    "        annot['visible'] += [np.array(data['keypoint_annotations'][ids]['human'+str(person)]).reshape(14,3)[:,-1]]\n",
    "        annot['part'] += [part]"
   ]
  },
  {
   "cell_type": "code",
   "execution_count": 25,
   "metadata": {},
   "outputs": [
    {
     "name": "stdout",
     "output_type": "stream",
     "text": [
      "[  48.   52.   51.   55.   53.   56.   99.   53.   57.   49.   98.   53.\n",
      "   56.  102.   51.   57.   97.   48.   49.   54.   52.   56.   99.   52.\n",
      "   57.   98.   53.   49.   53.   52.   97.  100.   49.  101.   48.   49.\n",
      "  100.   52.   48.   48.]\n"
     ]
    }
   ],
   "source": [
    "print annot['imgname'][1]"
   ]
  },
  {
   "cell_type": "code",
   "execution_count": null,
   "metadata": {
    "collapsed": true
   },
   "outputs": [],
   "source": [
    "with h5py.File('/home/yuliang/code/multi-human-pose/train/data/ai-cha/annot.h5','w') as f:\n",
    "    f.attrs['name'] = 'ai-cha'\n",
    "    for k in annot.keys():\n",
    "        f[k] = np.array(annot[k])"
   ]
  },
  {
   "cell_type": "markdown",
   "metadata": {
    "collapsed": true
   },
   "source": [
    "xmin[i] = upLeft[1]+torch.normal(-0.0142,0.1158)*width\n",
    "\n",
    "ymin[i] = upLeft[2]+torch.normal(0.0043,0.068)*ht\n",
    "\n",
    "xmax[i] = bottomRight[1]+torch.normal(0.0154,0.1337)*width\n",
    "\n",
    "ymax[i] = bottomRight[2]+torch.normal(-0.0013,0.0711)*ht"
   ]
  },
  {
   "cell_type": "code",
   "execution_count": 35,
   "metadata": {},
   "outputs": [
    {
     "name": "stdout",
     "output_type": "stream",
     "text": [
      "set([(14,)])\n"
     ]
    }
   ],
   "source": [
    "a = set()\n",
    "for i in range(len(annot['imgname'])):\n",
    "    a.add(annot['visible'][i].shape)\n",
    "print a"
   ]
  },
  {
   "cell_type": "code",
   "execution_count": 7,
   "metadata": {},
   "outputs": [
    {
     "name": "stdout",
     "output_type": "stream",
     "text": [
      "043758c591b58f39a01648c49b5154ad1e01d400\n"
     ]
    }
   ],
   "source": [
    "print (data['image_id'][1])"
   ]
  },
  {
   "cell_type": "code",
   "execution_count": 55,
   "metadata": {},
   "outputs": [
    {
     "name": "stdout",
     "output_type": "stream",
     "text": [
      "27652\n"
     ]
    }
   ],
   "source": [
    "with h5py.File('/home/yuliang/code/multi-human-pose/train/data/mpii-box/annot.h5','r') as f:\n",
    "    print len(f['imgname'])"
   ]
  },
  {
   "cell_type": "code",
   "execution_count": null,
   "metadata": {
    "collapsed": true
   },
   "outputs": [],
   "source": []
  }
 ],
 "metadata": {
  "kernelspec": {
   "display_name": "Python 2",
   "language": "python",
   "name": "python2"
  },
  "language_info": {
   "codemirror_mode": {
    "name": "ipython",
    "version": 2
   },
   "file_extension": ".py",
   "mimetype": "text/x-python",
   "name": "python",
   "nbconvert_exporter": "python",
   "pygments_lexer": "ipython2",
   "version": "2.7.13"
  }
 },
 "nbformat": 4,
 "nbformat_minor": 2
}
